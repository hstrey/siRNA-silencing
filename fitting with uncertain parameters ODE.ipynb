{
 "cells": [
  {
   "cell_type": "code",
   "execution_count": 3,
   "metadata": {},
   "outputs": [
    {
     "name": "stdout",
     "output_type": "stream",
     "text": [
      "['seaborn-dark', 'seaborn-darkgrid', 'seaborn-ticks', 'fivethirtyeight', 'seaborn-whitegrid', 'classic', '_classic_test', 'fast', 'seaborn-talk', 'seaborn-dark-palette', 'seaborn-bright', 'seaborn-pastel', 'grayscale', 'seaborn-notebook', 'ggplot', 'seaborn-colorblind', 'seaborn-muted', 'seaborn', 'Solarize_Light2', 'seaborn-paper', 'bmh', 'tableau-colorblind10', 'seaborn-white', 'dark_background', 'seaborn-poster', 'seaborn-deep']\n"
     ]
    }
   ],
   "source": [
    "%matplotlib inline\n",
    "import numpy as np\n",
    "import matplotlib.pyplot as plt\n",
    "import lmfit as lm\n",
    "import pandas as pd\n",
    "from scipy.integrate import odeint\n",
    "\n",
    "SMALL_SIZE = 16\n",
    "MEDIUM_SIZE = 18\n",
    "BIGGER_SIZE = 20\n",
    "\n",
    "plt.rc('font', size=SMALL_SIZE)          # controls default text sizes\n",
    "plt.rc('axes', titlesize=SMALL_SIZE)     # fontsize of the axes title\n",
    "plt.rc('axes', labelsize=MEDIUM_SIZE)    # fontsize of the x and y labels\n",
    "plt.rc('xtick', labelsize=SMALL_SIZE)    # fontsize of the tick labels\n",
    "plt.rc('ytick', labelsize=SMALL_SIZE)    # fontsize of the tick labels\n",
    "plt.rc('legend', fontsize=SMALL_SIZE)    # legend fontsize\n",
    "plt.rc('figure', titlesize=BIGGER_SIZE)  # fontsize of the figure title\n",
    "\n",
    "SEED = 35010732 # from random.org\n",
    "np.random.seed(SEED)\n",
    "\n",
    "print(plt.style.available)\n",
    "plt.style.use('seaborn-white')"
   ]
  },
  {
   "cell_type": "code",
   "execution_count": 4,
   "metadata": {},
   "outputs": [],
   "source": [
    "datagfp = pd.read_excel(\"data/2017_06_02_seq4_Huh7_siRNA_#molecules.xlsx\",sheet_name=\"#GFP_corrected\")\n",
    "datarfp = pd.read_excel(\"data/2017_06_02_seq4_Huh7_siRNA_#molecules.xlsx\",sheet_name=\"#RFP\")"
   ]
  },
  {
   "cell_type": "code",
   "execution_count": 5,
   "metadata": {},
   "outputs": [
    {
     "data": {
      "text/plain": [
       "[<matplotlib.lines.Line2D at 0x7ffba12e5358>]"
      ]
     },
     "execution_count": 5,
     "metadata": {},
     "output_type": "execute_result"
    },
    {
     "data": {
      "image/png": "[encoded data removed]",
      "text/plain": [
       "<Figure size 432x288 with 1 Axes>"
      ]
     },
     "metadata": {},
     "output_type": "display_data"
    }
   ],
   "source": [
    "plt.plot(datagfp[\"Time [h]\"],datagfp[\"#10^3 molecules eGFP crosstalk corrected.2\"])"
   ]
  },
  {
   "cell_type": "code",
   "execution_count": 6,
   "metadata": {},
   "outputs": [
    {
     "data": {
      "text/plain": [
       "[<matplotlib.lines.Line2D at 0x7ffb70e4a3c8>]"
      ]
     },
     "execution_count": 6,
     "metadata": {},
     "output_type": "execute_result"
    },
    {
     "data": {
      "image/png": "[encoded data removed]",
      "text/plain": [
       "<Figure size 432x288 with 1 Axes>"
      ]
     },
     "metadata": {},
     "output_type": "display_data"
    }
   ],
   "source": [
    "t = np.array(datarfp[\"Time [h]\"])\n",
    "tt = np.array(datarfp[\"Time [h]\"])\n",
    "data = datarfp[\"#10^3 molecules CayRFP.2\"]\n",
    "noise = np.sqrt(np.abs(data))\n",
    "plt.plot(t,data)"
   ]
  },
  {
   "cell_type": "code",
   "execution_count": 7,
   "metadata": {},
   "outputs": [],
   "source": [
    "def DE(t, t0, m, k, beta, delta, offset):\n",
    "    \"\"\"General expression model function\"\"\"\n",
    "\n",
    "    f = np.zeros(np.shape(t))\n",
    "    idx_after = np.array(t > t0, dtype = bool)\n",
    "    dt = t[idx_after] - t0\n",
    "\n",
    "    f1 = np.exp(- (beta + k) * dt) / (beta - delta + k)\n",
    "    f2 = - np.exp(- beta * dt) / (beta - delta)\n",
    "    f3 = k * np.exp(- delta * dt) / (beta - delta) / (beta - delta + k)\n",
    "\n",
    "    f[idx_after] = (f1 + f2 + f3) * m\n",
    "\n",
    "    return f + offset"
   ]
  },
  {
   "cell_type": "code",
   "execution_count": 8,
   "metadata": {},
   "outputs": [],
   "source": [
    "# solve the ODE directly\n",
    "def gfp(y,t,m,k,beta,delta):\n",
    "    dydt = [-delta*y[0],\n",
    "            m*y[0]-(beta+k)*y[1],\n",
    "            k*y[1]-beta*y[2]]\n",
    "    return dydt\n",
    "\n",
    "def DEODE(t, t0, m, k, beta, delta, offset):\n",
    "    f = np.zeros(np.shape(t))\n",
    "    idx_after = np.array(t > t0, dtype = bool)\n",
    "    dt = t[idx_after] - t0\n",
    "    if dt[0]>0:\n",
    "        addzero = True\n",
    "        dt = np.concatenate(([0.0],dt))\n",
    "    else:\n",
    "        addzero = False\n",
    "    result = odeint(gfp, [1.0,0.0,0.0], dt, args=(m,k,beta,delta))\n",
    "    if addzero:\n",
    "        f[idx_after] = result[:,2][1:]\n",
    "    else:\n",
    "        f[idx_after] = result[:,2]\n",
    "\n",
    "    return f + offset\n",
    "\n",
    "def DEODE(t, t0, m, k, beta, delta, offset):\n",
    "    f = np.zeros(np.shape(t))\n",
    "    idx_after = np.array(t > t0, dtype = bool)\n",
    "    dt = t[idx_after] - t0\n",
    "    if dt[0]>0:\n",
    "        addzero = True\n",
    "        dt = np.concatenate(([0.0],dt))\n",
    "    else:\n",
    "        addzero = False\n",
    "    result = odeint(gfp, [1.0,0.0,0.0], dt, args=(m,k,beta,delta))\n",
    "    if addzero:\n",
    "        f[idx_after] = result[:,2][1:]\n",
    "    else:\n",
    "        f[idx_after] = result[:,2]\n",
    "\n",
    "    return f + offset"
   ]
  },
  {
   "cell_type": "code",
   "execution_count": 9,
   "metadata": {},
   "outputs": [
    {
     "data": {
      "text/plain": [
       "[<matplotlib.lines.Line2D at 0x7ffb70e5c160>]"
      ]
     },
     "execution_count": 9,
     "metadata": {},
     "output_type": "execute_result"
    },
    {
     "data": {
      "image/png": "[encoded data removed]",
      "text/plain": [
       "<Figure size 432x288 with 1 Axes>"
      ]
     },
     "metadata": {},
     "output_type": "display_data"
    }
   ],
   "source": [
    "m_ktl_0 = 4e4\n",
    "\n",
    "tr_0 = 4.5\n",
    "kmr_0 = 0.3\n",
    "betr_0 = 0.0421\n",
    "deltr_0 = 0.08\n",
    "offr_0 = 0\n",
    "\n",
    "y = DEODE(t,10,m_ktl_0,kmr_0,betr_0,deltr_0,0)\n",
    "y1 = DE(t,10,m_ktl_0,kmr_0,betr_0,deltr_0,0)\n",
    "plt.plot(t,y)\n",
    "plt.plot(t,y1)\n",
    "#print(t,y)"
   ]
  },
  {
   "cell_type": "code",
   "execution_count": 10,
   "metadata": {},
   "outputs": [
    {
     "name": "stdout",
     "output_type": "stream",
     "text": [
      "[[Model]]\n",
      "    Model(DEODE)\n",
      "[[Fit Statistics]]\n",
      "    # fitting method   = leastsq\n",
      "    # function evals   = 65\n",
      "    # data points      = 150\n",
      "    # variables        = 4\n",
      "    chi-square         = 780.974985\n",
      "    reduced chi-square = 5.34914374\n",
      "    Akaike info crit   = 255.486174\n",
      "    Bayesian info crit = 267.528715\n",
      "[[Variables]]\n",
      "    t0:      3.58068238 +/- 0.02828746 (0.79%) (init = 4.5)\n",
      "    m:       2352.11525 +/- 33.5344160 (1.43%) (init = 20000)\n",
      "    k:       0.3 (fixed)\n",
      "    beta:    0.0421 (fixed)\n",
      "    delta:   0.20469384 +/- 0.00342097 (1.67%) (init = 0.03)\n",
      "    offset:  0.87443004 +/- 0.68056426 (77.83%) (init = 0)\n",
      "[[Correlations]] (unreported correlations are < 0.250)\n",
      "    C(m, delta)  =  0.977\n",
      "    C(t0, m)     =  0.735\n",
      "    C(t0, delta) =  0.714\n"
     ]
    }
   ],
   "source": [
    "m_ktl_0 = 2e4\n",
    "\n",
    "tr_0 = 4.5\n",
    "kmr_0 = 0.3\n",
    "betr_0 = 0.0421\n",
    "deltr_0 = 0.03\n",
    "offr_0 = 0\n",
    "\n",
    "DE_model = lm.Model(DEODE)\n",
    "pars = DE_model.make_params()\n",
    "pars['t0'].set(value=tr_0,vary=True)\n",
    "pars['m'].set(value=m_ktl_0,vary=True)\n",
    "pars['k'].set(value=kmr_0,vary=False)\n",
    "pars['beta'].set(value=betr_0,vary=False)\n",
    "pars['delta'].set(value=deltr_0,vary=True)\n",
    "pars['offset'].set(value=offr_0,vary=True)\n",
    "\n",
    "out = DE_model.fit(data, pars, t=tt, weights=1/noise)\n",
    "print(out.fit_report(min_correl=0.25))"
   ]
  },
  {
   "cell_type": "code",
   "execution_count": 15,
   "metadata": {},
   "outputs": [
    {
     "data": {
      "image/png": "[encoded data removed]",
      "text/plain": [
       "<Figure size 432x288 with 1 Axes>"
      ]
     },
     "metadata": {},
     "output_type": "display_data"
    }
   ],
   "source": [
    "plt.plot(t,data,\"o\")\n",
    "plt.plot(t, out.best_fit, 'r-')\n",
    "plt.xlabel(\"t in h\")\n",
    "plt.ylabel(\"# of GFP\")\n",
    "plt.savefig(\"lq-fitted.png\",format='png',dpi=300,bbox_inches='tight',facecolor=\"white\",backgroundcolor=\"white\")"
   ]
  },
  {
   "cell_type": "code",
   "execution_count": 13,
   "metadata": {},
   "outputs": [],
   "source": [
    "import pymc3 as pm"
   ]
  },
  {
   "cell_type": "code",
   "execution_count": null,
   "metadata": {},
   "outputs": [],
   "source": [
    "m_ktl_0 = 2e4\n",
    "m_ktl_max = 5e5\n",
    "\n",
    "tr_0 = 4.5\n",
    "\n",
    "kmr_0 = 0.3\n",
    "kmr_sigma = 0.08\n",
    "\n",
    "betr_0 = 0.0421\n",
    "betr_sigma = 0.013\n",
    "\n",
    "deltr_0 = 0.03\n",
    "offr_0 = 0\n",
    "\n",
    "\n",
    "t0 = pm.Uniform('t0',lower=0,upper=20)\n",
    "m = pm.Uniform('m',lower = 1, upper = m_ktl_max)\n",
    "k = pm.Uniform('k',lower = 0, upper = kmr_0*5)\n",
    "beta = pm.Uniform('beta',lower =0, upper = betr_0*5)\n",
    "delta = pm.Uniform('delta',lower=0,upper=1)\n",
    "offset = pm.Uniform('offset',lower=0,upper=50.0)\n",
    "\n",
    "@pm.deterministic\n",
    "def DE_pm(t=tt, t0=t0, m=m, k=k, beta=beta, delta=delta, offset=offset):\n",
    "    \"\"\"General expression model function\"\"\"\n",
    "\n",
    "    f = np.zeros(np.shape(t))\n",
    "    idx_after = np.array(t > t0, dtype = bool)\n",
    "    dt = t[idx_after] - t0\n",
    "\n",
    "    f1 = np.exp(- (beta + k) * dt) / (beta - delta + k)\n",
    "    f2 = - np.exp(- beta * dt) / (beta - delta)\n",
    "    f3 = k * np.exp(- delta * dt) / (beta - delta) / (beta - delta + k)\n",
    "\n",
    "    f[idx_after] = (f1 + f2 + f3) * m\n",
    "\n",
    "    return f + offset\n",
    "\n",
    "obs = pm.Normal('obs', mu=DE_pm, tau=1/noise**2, observed=True,\n",
    "                value=data)"
   ]
  },
  {
   "cell_type": "code",
   "execution_count": null,
   "metadata": {},
   "outputs": [],
   "source": [
    "SAMPLES = 100000\n",
    "BURN = 50000\n",
    "\n",
    "model = pm.Model([t0, m, k, beta, delta,offset,obs])\n",
    "mcmc = pm.MCMC(model)\n",
    "mcmc.sample(SAMPLES + BURN, BURN)\n",
    "\n",
    "plt.hist(mcmc.trace('t0')[:])"
   ]
  },
  {
   "cell_type": "code",
   "execution_count": null,
   "metadata": {},
   "outputs": [],
   "source": [
    "pm.Matplot.plot(mcmc)"
   ]
  },
  {
   "cell_type": "code",
   "execution_count": null,
   "metadata": {},
   "outputs": [],
   "source": [
    "mcmc.summary()"
   ]
  },
  {
   "cell_type": "code",
   "execution_count": null,
   "metadata": {},
   "outputs": [],
   "source": [
    "t_eq = 40000\n",
    "print(\"delta: \",np.percentile(mcmc.trace('delta')[t_eq:],[2.5,25,50,75,97.5]))\n",
    "print(\"k: \",np.percentile(mcmc.trace('k')[t_eq:],[2.5,25,50,75,97.5]))\n",
    "print(\"beta: \",np.percentile(mcmc.trace('beta')[t_eq:],[2.5,25,50,75,97.5]))\n",
    "print(\"m: \",np.percentile(mcmc.trace('m')[t_eq:],[2.5,25,50,75,97.5]))\n",
    "print(\"offset: \",np.percentile(mcmc.trace('offset')[t_eq:],[2.5,25,50,75,97.5]))\n",
    "print(\"t0: \",np.percentile(mcmc.trace('t0')[t_eq:],[2.5,25,50,75,97.5]))"
   ]
  },
  {
   "cell_type": "code",
   "execution_count": null,
   "metadata": {},
   "outputs": [],
   "source": [
    "MC_fit = DE(t=tt,\n",
    "            t0=mcmc.trace('t0')[t_eq:].mean(),\n",
    "           beta=mcmc.trace('beta')[t_eq:].mean(),\n",
    "           delta=mcmc.trace('delta')[t_eq:].mean(),\n",
    "            k=mcmc.trace('k')[t_eq:].mean(),\n",
    "            m=mcmc.trace('m')[t_eq:].mean(),\n",
    "            offset=mcmc.trace('offset')[t_eq:].mean()\n",
    "           )\n",
    "plt.plot(tt,data,\"o\")\n",
    "plt.plot(tt,MC_fit)"
   ]
  },
  {
   "cell_type": "code",
   "execution_count": null,
   "metadata": {},
   "outputs": [],
   "source": []
  }
 ],
 "metadata": {
  "kernelspec": {
   "display_name": "Python 3",
   "language": "python",
   "name": "python3"
  },
  "language_info": {
   "codemirror_mode": {
    "name": "ipython",
    "version": 3
   },
   "file_extension": ".py",
   "mimetype": "text/x-python",
   "name": "python",
   "nbconvert_exporter": "python",
   "pygments_lexer": "ipython3",
   "version": "3.6.10"
  }
 },
 "nbformat": 4,
 "nbformat_minor": 2
}
